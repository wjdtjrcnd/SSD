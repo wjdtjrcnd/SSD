{
 "cells": [
  {
   "cell_type": "code",
   "execution_count": 32,
   "metadata": {},
   "outputs": [],
   "source": [
    "import xml.etree.ElementTree as ET\n",
    "import os\n",
    "\n",
    "def remove_non_car_objects(xml_folder):\n",
    "    for filename in os.listdir(xml_folder):\n",
    "        if filename.endswith('.xml'):\n",
    "            xml_file = os.path.join(xml_folder, filename)\n",
    "            tree = ET.parse(xml_file)\n",
    "            root = tree.getroot()\n",
    "            for obj in root.findall('object'):\n",
    "                if obj.find('name').text != 'car':\n",
    "                    root.remove(obj)\n",
    "            tree.write(xml_file)\n",
    "\n",
    "# 테스트용 폴더 경로\n",
    "xml_folder_path = 'car_test'\n",
    "\n",
    "# 함수 호출\n",
    "remove_non_car_objects(xml_folder_path)"
   ]
  },
  {
   "cell_type": "code",
   "execution_count": 29,
   "metadata": {},
   "outputs": [],
   "source": [
    "car_folder = 'car_images'\n",
    "if not os.path.exists(car_folder):\n",
    "    os.makedirs(car_folder)\n",
    "y=[]\n",
    "file_path = 'ImageSets/Main/car_test.txt'\n",
    "files = 'JPEGImages'\n",
    "with open(file_path, 'r') as file:\n",
    "    for line in file:\n",
    "        if line[7]==' ':\n",
    "            x = line[:6]\n",
    "            y.append(x)"
   ]
  },
  {
   "cell_type": "code",
   "execution_count": 31,
   "metadata": {},
   "outputs": [],
   "source": [
    "# 주어진 폴더 내의 모든 파일을 확인하고 삭제할 파일 이외의 파일은 삭제한다.\n",
    "folder_path='car_tests'\n",
    "for filename in os.listdir(folder_path):\n",
    "    # 파일의 확장자가 .jpg인지 확인하고, 파일 이름이 유지할 파일 리스트에 있는지 확인한다.\n",
    "    if filename.endswith('.xml') and filename[:-4] not in y:\n",
    "        # 파일의 전체 경로 생성\n",
    "        file_path = os.path.join(folder_path, filename)\n",
    "        # 파일 삭제\n",
    "        os.remove(file_path)"
   ]
  }
 ],
 "metadata": {
  "kernelspec": {
   "display_name": "base",
   "language": "python",
   "name": "python3"
  },
  "language_info": {
   "codemirror_mode": {
    "name": "ipython",
    "version": 3
   },
   "file_extension": ".py",
   "mimetype": "text/x-python",
   "name": "python",
   "nbconvert_exporter": "python",
   "pygments_lexer": "ipython3",
   "version": "3.11.5"
  }
 },
 "nbformat": 4,
 "nbformat_minor": 2
}
