{
 "cells": [
  {
   "cell_type": "code",
   "execution_count": 4,
   "metadata": {},
   "outputs": [],
   "source": [
    "import torch\n",
    "import numpy as np"
   ]
  },
  {
   "cell_type": "code",
   "execution_count": 61,
   "metadata": {},
   "outputs": [],
   "source": [
    "list = np.array([[1,2,3,4],[4,5,6,6],[7,8,9,9]])\n",
    "tensor = torch.from_numpy(list)"
   ]
  },
  {
   "cell_type": "code",
   "execution_count": 62,
   "metadata": {},
   "outputs": [
    {
     "data": {
      "text/plain": [
       "tensor([[1, 2, 3, 4],\n",
       "        [4, 5, 6, 6],\n",
       "        [7, 8, 9, 9]])"
      ]
     },
     "execution_count": 62,
     "metadata": {},
     "output_type": "execute_result"
    }
   ],
   "source": [
    "tensor"
   ]
  },
  {
   "cell_type": "code",
   "execution_count": 63,
   "metadata": {},
   "outputs": [
    {
     "data": {
      "text/plain": [
       "4"
      ]
     },
     "execution_count": 63,
     "metadata": {},
     "output_type": "execute_result"
    }
   ],
   "source": [
    "# tensor[tensor.size(0)-1,1]\n",
    "tensor.size(0)\n",
    "tensor.size(1)\n",
    "# tensor.size(2)\n",
    "\n"
   ]
  },
  {
   "cell_type": "code",
   "execution_count": 64,
   "metadata": {},
   "outputs": [],
   "source": [
    "x = torch.empty(3, 4,5)"
   ]
  },
  {
   "cell_type": "code",
   "execution_count": 66,
   "metadata": {},
   "outputs": [
    {
     "data": {
      "text/plain": [
       "tensor([[[1.7950e+24, 4.5715e-41, 1.7950e+24, 4.5715e-41, 1.5414e-43],\n",
       "         [1.6115e-43, 1.5554e-43, 1.5975e-43, 1.2752e-43, 1.6255e-43],\n",
       "         [1.4153e-43, 1.5414e-43, 1.6115e-43, 1.5554e-43, 1.5975e-43],\n",
       "         [6.4460e-44, 1.6115e-43, 1.4714e-43, 1.7096e-43, 1.4153e-43]],\n",
       "\n",
       "        [[5.6052e-44, 6.7262e-44, 5.7453e-44, 6.3058e-44, 6.8664e-44],\n",
       "         [6.1657e-44, 6.8664e-44, 1.3032e-43, 1.4013e-44, 1.6255e-43],\n",
       "         [1.4153e-43, 1.5414e-43, 1.6115e-43, 1.5554e-43, 1.5975e-43],\n",
       "         [6.4460e-44, 1.6115e-43, 1.4714e-43, 1.7096e-43, 1.4153e-43]],\n",
       "\n",
       "        [[5.6052e-44, 6.7262e-44, 5.7453e-44, 1.4013e-44, 1.6255e-43],\n",
       "         [1.4153e-43, 1.5414e-43, 1.6115e-43, 1.5554e-43, 1.5975e-43],\n",
       "         [6.4460e-44, 1.6115e-43, 1.4714e-43, 1.7096e-43, 1.4153e-43],\n",
       "         [5.6052e-44, 6.8664e-44, 5.7453e-44, 1.4013e-44, 4.9045e-44]]])"
      ]
     },
     "execution_count": 66,
     "metadata": {},
     "output_type": "execute_result"
    }
   ],
   "source": [
    "x"
   ]
  },
  {
   "cell_type": "code",
   "execution_count": 68,
   "metadata": {},
   "outputs": [
    {
     "data": {
      "text/plain": [
       "tensor([4, 5, 6, 6])"
      ]
     },
     "execution_count": 68,
     "metadata": {},
     "output_type": "execute_result"
    }
   ],
   "source": [
    "tensor[1,:]"
   ]
  },
  {
   "cell_type": "code",
   "execution_count": null,
   "metadata": {},
   "outputs": [],
   "source": []
  }
 ],
 "metadata": {
  "kernelspec": {
   "display_name": "ssd",
   "language": "python",
   "name": "python3"
  },
  "language_info": {
   "codemirror_mode": {
    "name": "ipython",
    "version": 3
   },
   "file_extension": ".py",
   "mimetype": "text/x-python",
   "name": "python",
   "nbconvert_exporter": "python",
   "pygments_lexer": "ipython3",
   "version": "3.11.9"
  }
 },
 "nbformat": 4,
 "nbformat_minor": 2
}
